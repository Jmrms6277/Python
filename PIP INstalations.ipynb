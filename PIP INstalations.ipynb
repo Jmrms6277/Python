{
 "cells": [
  {
   "cell_type": "code",
   "execution_count": 2,
   "id": "d524bd9a",
   "metadata": {},
   "outputs": [
    {
     "name": "stdout",
     "output_type": "stream",
     "text": [
      "Requirement already satisfied: pretty_html_table in c:\\users\\jagadeesh.k\\anaconda3\\lib\\site-packages (0.9.16)\n",
      "Requirement already satisfied: pandas in c:\\users\\jagadeesh.k\\anaconda3\\lib\\site-packages (from pretty_html_table) (1.4.4)\n",
      "Requirement already satisfied: numpy>=1.18.5 in c:\\users\\jagadeesh.k\\anaconda3\\lib\\site-packages (from pandas->pretty_html_table) (1.21.5)\n",
      "Requirement already satisfied: pytz>=2020.1 in c:\\users\\jagadeesh.k\\anaconda3\\lib\\site-packages (from pandas->pretty_html_table) (2022.1)\n",
      "Requirement already satisfied: python-dateutil>=2.8.1 in c:\\users\\jagadeesh.k\\anaconda3\\lib\\site-packages (from pandas->pretty_html_table) (2.8.2)\n",
      "Requirement already satisfied: six>=1.5 in c:\\users\\jagadeesh.k\\anaconda3\\lib\\site-packages (from python-dateutil>=2.8.1->pandas->pretty_html_table) (1.16.0)\n",
      "Note: you may need to restart the kernel to use updated packages.\n"
     ]
    }
   ],
   "source": [
    "pip install pretty_html_table"
   ]
  },
  {
   "cell_type": "code",
   "execution_count": 3,
   "id": "e5539a51",
   "metadata": {},
   "outputs": [],
   "source": [
    "import pandas as pd\n",
    "import numpy as np"
   ]
  },
  {
   "cell_type": "code",
   "execution_count": 4,
   "id": "5e3872dc",
   "metadata": {},
   "outputs": [],
   "source": [
    "#pip install jupyterlab"
   ]
  },
  {
   "cell_type": "markdown",
   "id": "0b1f06fc",
   "metadata": {},
   "source": [
    "Sou ATC   P25   P75 Avg\n",
    "A   11    9     15  10\n",
    "B   6.63  15    15  25\n",
    "C   6.63  5     10  8"
   ]
  },
  {
   "cell_type": "markdown",
   "id": "467e8fff",
   "metadata": {},
   "source": [
    "def color(x): \n",
    "   c1 = 'background-color: red'\n",
    "   c2 = 'background-color: green'\n",
    "   c3 = 'background-color: yellow'\n",
    "   c = ''\n",
    "\n",
    "   cols = ['ATC','Avg']\n",
    "   m1 = x[cols].lt(x['P25'], axis=0)\n",
    "   m2 = x[cols].gt(x['P75'], axis=0)\n",
    "   arr = np.select([m1, m2], [c1, c2], default=c3)\n",
    "\n",
    "   df1 = pd.DataFrame(arr, index=x.index, columns=cols)\n",
    "   return df1.reindex(columns=x.columns, fill_value=c)\n",
    "\n",
    "df.style.apply(color,axis=None).to_excel('format_file.xlsx', index=False, engine='openpyxl')"
   ]
  },
  {
   "cell_type": "code",
   "execution_count": 5,
   "id": "b2a168ab",
   "metadata": {},
   "outputs": [
    {
     "name": "stdout",
     "output_type": "stream",
     "text": [
      "Requirement already satisfied: styleframe in c:\\users\\jagadeesh.k\\anaconda3\\lib\\site-packages (4.1)\n",
      "Requirement already satisfied: jsonschema in c:\\users\\jagadeesh.k\\anaconda3\\lib\\site-packages (from styleframe) (4.16.0)\n",
      "Requirement already satisfied: pandas<2 in c:\\users\\jagadeesh.k\\anaconda3\\lib\\site-packages (from styleframe) (1.4.4)\n",
      "Requirement already satisfied: openpyxl<4,>=2.5 in c:\\users\\jagadeesh.k\\anaconda3\\lib\\site-packages (from styleframe) (3.0.10)\n",
      "Requirement already satisfied: colour<0.2,>=0.1.5 in c:\\users\\jagadeesh.k\\anaconda3\\lib\\site-packages (from styleframe) (0.1.5)\n",
      "Requirement already satisfied: et_xmlfile in c:\\users\\jagadeesh.k\\anaconda3\\lib\\site-packages (from openpyxl<4,>=2.5->styleframe) (1.1.0)\n",
      "Requirement already satisfied: numpy>=1.18.5 in c:\\users\\jagadeesh.k\\anaconda3\\lib\\site-packages (from pandas<2->styleframe) (1.21.5)\n",
      "Requirement already satisfied: pytz>=2020.1 in c:\\users\\jagadeesh.k\\anaconda3\\lib\\site-packages (from pandas<2->styleframe) (2022.1)\n",
      "Requirement already satisfied: python-dateutil>=2.8.1 in c:\\users\\jagadeesh.k\\anaconda3\\lib\\site-packages (from pandas<2->styleframe) (2.8.2)\n",
      "Requirement already satisfied: attrs>=17.4.0 in c:\\users\\jagadeesh.k\\anaconda3\\lib\\site-packages (from jsonschema->styleframe) (21.4.0)\n",
      "Requirement already satisfied: pyrsistent!=0.17.0,!=0.17.1,!=0.17.2,>=0.14.0 in c:\\users\\jagadeesh.k\\anaconda3\\lib\\site-packages (from jsonschema->styleframe) (0.18.0)\n",
      "Requirement already satisfied: six>=1.5 in c:\\users\\jagadeesh.k\\anaconda3\\lib\\site-packages (from python-dateutil>=2.8.1->pandas<2->styleframe) (1.16.0)\n",
      "Note: you may need to restart the kernel to use updated packages.\n"
     ]
    }
   ],
   "source": [
    "pip install styleframe"
   ]
  },
  {
   "cell_type": "code",
   "execution_count": 6,
   "id": "2548f155",
   "metadata": {},
   "outputs": [
    {
     "name": "stdout",
     "output_type": "stream",
     "text": [
      "Requirement already satisfied: openpyxl in c:\\users\\jagadeesh.k\\anaconda3\\lib\\site-packages (3.0.10)Note: you may need to restart the kernel to use updated packages.\n",
      "\n",
      "Requirement already satisfied: et_xmlfile in c:\\users\\jagadeesh.k\\anaconda3\\lib\\site-packages (from openpyxl) (1.1.0)\n"
     ]
    }
   ],
   "source": [
    "pip install openpyxl"
   ]
  },
  {
   "cell_type": "code",
   "execution_count": 7,
   "id": "e99785ab",
   "metadata": {},
   "outputs": [
    {
     "name": "stdout",
     "output_type": "stream",
     "text": [
      "Requirement already satisfied: pyxlsb in c:\\users\\jagadeesh.k\\anaconda3\\lib\\site-packages (1.0.10)\n",
      "Note: you may need to restart the kernel to use updated packages.\n"
     ]
    }
   ],
   "source": [
    "pip install pyxlsb"
   ]
  },
  {
   "cell_type": "code",
   "execution_count": 8,
   "id": "4bbcaa47",
   "metadata": {},
   "outputs": [
    {
     "name": "stdout",
     "output_type": "stream",
     "text": [
      "Requirement already satisfied: jpype1 in c:\\users\\jagadeesh.k\\anaconda3\\lib\\site-packages (1.4.1)\n",
      "Requirement already satisfied: packaging in c:\\users\\jagadeesh.k\\anaconda3\\lib\\site-packages (from jpype1) (21.3)\n",
      "Requirement already satisfied: pyparsing!=3.0.5,>=2.0.2 in c:\\users\\jagadeesh.k\\anaconda3\\lib\\site-packages (from packaging->jpype1) (3.0.9)\n",
      "Note: you may need to restart the kernel to use updated packages.\n"
     ]
    }
   ],
   "source": [
    "pip install jpype1"
   ]
  },
  {
   "cell_type": "code",
   "execution_count": 9,
   "id": "f9cebaff",
   "metadata": {},
   "outputs": [],
   "source": [
    "#pip install pandas --upgrade"
   ]
  },
  {
   "cell_type": "code",
   "execution_count": 10,
   "id": "6363473c",
   "metadata": {},
   "outputs": [
    {
     "name": "stdout",
     "output_type": "stream",
     "text": [
      "Requirement already satisfied: openai in c:\\users\\jagadeesh.k\\anaconda3\\lib\\site-packages (0.26.4)\n",
      "Requirement already satisfied: aiohttp in c:\\users\\jagadeesh.k\\anaconda3\\lib\\site-packages (from openai) (3.8.3)\n",
      "Requirement already satisfied: requests>=2.20 in c:\\users\\jagadeesh.k\\anaconda3\\lib\\site-packages (from openai) (2.28.1)\n",
      "Requirement already satisfied: tqdm in c:\\users\\jagadeesh.k\\anaconda3\\lib\\site-packages (from openai) (4.64.1)\n",
      "Requirement already satisfied: idna<4,>=2.5 in c:\\users\\jagadeesh.k\\anaconda3\\lib\\site-packages (from requests>=2.20->openai) (3.3)\n",
      "Requirement already satisfied: certifi>=2017.4.17 in c:\\users\\jagadeesh.k\\anaconda3\\lib\\site-packages (from requests>=2.20->openai) (2022.9.14)\n",
      "Requirement already satisfied: urllib3<1.27,>=1.21.1 in c:\\users\\jagadeesh.k\\anaconda3\\lib\\site-packages (from requests>=2.20->openai) (1.26.11)\n",
      "Requirement already satisfied: charset-normalizer<3,>=2 in c:\\users\\jagadeesh.k\\anaconda3\\lib\\site-packages (from requests>=2.20->openai) (2.0.4)\n",
      "Requirement already satisfied: frozenlist>=1.1.1 in c:\\users\\jagadeesh.k\\anaconda3\\lib\\site-packages (from aiohttp->openai) (1.3.3)\n",
      "Requirement already satisfied: yarl<2.0,>=1.0 in c:\\users\\jagadeesh.k\\anaconda3\\lib\\site-packages (from aiohttp->openai) (1.8.2)\n",
      "Requirement already satisfied: multidict<7.0,>=4.5 in c:\\users\\jagadeesh.k\\anaconda3\\lib\\site-packages (from aiohttp->openai) (6.0.4)\n",
      "Requirement already satisfied: aiosignal>=1.1.2 in c:\\users\\jagadeesh.k\\anaconda3\\lib\\site-packages (from aiohttp->openai) (1.3.1)\n",
      "Requirement already satisfied: async-timeout<5.0,>=4.0.0a3 in c:\\users\\jagadeesh.k\\anaconda3\\lib\\site-packages (from aiohttp->openai) (4.0.2)\n",
      "Requirement already satisfied: attrs>=17.3.0 in c:\\users\\jagadeesh.k\\anaconda3\\lib\\site-packages (from aiohttp->openai) (21.4.0)\n",
      "Requirement already satisfied: colorama in c:\\users\\jagadeesh.k\\anaconda3\\lib\\site-packages (from tqdm->openai) (0.4.5)\n",
      "Note: you may need to restart the kernel to use updated packages.\n"
     ]
    }
   ],
   "source": [
    "pip install openai"
   ]
  },
  {
   "cell_type": "code",
   "execution_count": 11,
   "id": "af0efc71",
   "metadata": {},
   "outputs": [],
   "source": [
    "#pip install aspose-cells"
   ]
  },
  {
   "cell_type": "code",
   "execution_count": 12,
   "id": "96d28b8e",
   "metadata": {},
   "outputs": [
    {
     "name": "stdout",
     "output_type": "stream",
     "text": [
      "Requirement already satisfied: pyexcel-xls in c:\\users\\jagadeesh.k\\anaconda3\\lib\\site-packages (0.7.0)\n",
      "Requirement already satisfied: pyexcel-io>=0.6.2 in c:\\users\\jagadeesh.k\\anaconda3\\lib\\site-packages (from pyexcel-xls) (0.6.6)\n",
      "Requirement already satisfied: xlrd in c:\\users\\jagadeesh.k\\anaconda3\\lib\\site-packages (from pyexcel-xls) (2.0.1)\n",
      "Requirement already satisfied: xlwt in c:\\users\\jagadeesh.k\\anaconda3\\lib\\site-packages (from pyexcel-xls) (1.3.0)\n",
      "Requirement already satisfied: lml>=0.0.4 in c:\\users\\jagadeesh.k\\anaconda3\\lib\\site-packages (from pyexcel-io>=0.6.2->pyexcel-xls) (0.1.0)\n",
      "Note: you may need to restart the kernel to use updated packages.\n"
     ]
    }
   ],
   "source": [
    "pip install pyexcel-xls"
   ]
  },
  {
   "cell_type": "markdown",
   "id": "02a77a66",
   "metadata": {},
   "source": [
    "# Critical"
   ]
  },
  {
   "cell_type": "code",
   "execution_count": 13,
   "id": "5e4dedec",
   "metadata": {},
   "outputs": [],
   "source": [
    "#pip install --no-binary :all: JPype1"
   ]
  },
  {
   "cell_type": "code",
   "execution_count": 14,
   "id": "869890e4",
   "metadata": {},
   "outputs": [],
   "source": [
    "#JAVA_HOME=/usr/lib/java/jdk1.8.0/ python setup.py install"
   ]
  },
  {
   "cell_type": "code",
   "execution_count": 15,
   "id": "b2453524",
   "metadata": {},
   "outputs": [],
   "source": [
    "#pip install JCC"
   ]
  },
  {
   "cell_type": "code",
   "execution_count": 16,
   "id": "bbb3d140",
   "metadata": {},
   "outputs": [],
   "source": [
    "#python setup.py build\n",
    "#sudo python setup.py install"
   ]
  },
  {
   "cell_type": "code",
   "execution_count": 17,
   "id": "75c351cd",
   "metadata": {},
   "outputs": [
    {
     "name": "stdout",
     "output_type": "stream",
     "text": [
      "Requirement already satisfied: pyxlsb in c:\\users\\jagadeesh.k\\anaconda3\\lib\\site-packages (1.0.10)\n",
      "Note: you may need to restart the kernel to use updated packages.\n"
     ]
    }
   ],
   "source": [
    "pip install pyxlsb"
   ]
  },
  {
   "cell_type": "code",
   "execution_count": 18,
   "id": "991e11d6",
   "metadata": {},
   "outputs": [
    {
     "name": "stdout",
     "output_type": "stream",
     "text": [
      "Name: pyxlsb\n",
      "Version: 1.0.10\n",
      "Summary: Excel 2007-2010 Binary Workbook (xlsb) parser\n",
      "Home-page: https://github.com/willtrnr/pyxlsb\n",
      "Author: William Turner\n",
      "Author-email: willtur.will@gmail.com\n",
      "License: LGPLv3+\n",
      "Location: c:\\users\\jagadeesh.k\\anaconda3\\lib\\site-packages\n",
      "Requires: \n",
      "Required-by: \n",
      "Note: you may need to restart the kernel to use updated packages.\n"
     ]
    }
   ],
   "source": [
    "pip show pyxlsb"
   ]
  },
  {
   "cell_type": "code",
   "execution_count": 19,
   "id": "f79764be",
   "metadata": {},
   "outputs": [
    {
     "name": "stdout",
     "output_type": "stream",
     "text": [
      "Requirement already satisfied: onedrivesdk in c:\\users\\jagadeesh.k\\anaconda3\\lib\\site-packages (2.0.1)\n",
      "Note: you may need to restart the kernel to use updated packages.\n"
     ]
    }
   ],
   "source": [
    "pip install onedrivesdk"
   ]
  },
  {
   "cell_type": "code",
   "execution_count": 20,
   "id": "01752b71",
   "metadata": {},
   "outputs": [
    {
     "name": "stdout",
     "output_type": "stream",
     "text": [
      "Requirement already satisfied: python-pptx in c:\\users\\jagadeesh.k\\anaconda3\\lib\\site-packages (0.6.21)\n",
      "Requirement already satisfied: lxml>=3.1.0 in c:\\users\\jagadeesh.k\\anaconda3\\lib\\site-packages (from python-pptx) (4.9.1)\n",
      "Requirement already satisfied: Pillow>=3.3.2 in c:\\users\\jagadeesh.k\\anaconda3\\lib\\site-packages (from python-pptx) (9.2.0)\n",
      "Requirement already satisfied: XlsxWriter>=0.5.7 in c:\\users\\jagadeesh.k\\anaconda3\\lib\\site-packages (from python-pptx) (3.0.3)\n",
      "Note: you may need to restart the kernel to use updated packages.\n"
     ]
    }
   ],
   "source": [
    "pip install python-pptx"
   ]
  },
  {
   "cell_type": "code",
   "execution_count": 21,
   "id": "8eb4dc62",
   "metadata": {},
   "outputs": [
    {
     "name": "stdout",
     "output_type": "stream",
     "text": [
      "Requirement already satisfied: pandas in c:\\users\\jagadeesh.k\\anaconda3\\lib\\site-packages (1.4.4)\n",
      "Requirement already satisfied: openpyxl in c:\\users\\jagadeesh.k\\anaconda3\\lib\\site-packages (3.0.10)\n",
      "Requirement already satisfied: matplotlib in c:\\users\\jagadeesh.k\\anaconda3\\lib\\site-packages (3.5.2)\n",
      "Requirement already satisfied: numpy>=1.18.5 in c:\\users\\jagadeesh.k\\anaconda3\\lib\\site-packages (from pandas) (1.21.5)\n",
      "Requirement already satisfied: pytz>=2020.1 in c:\\users\\jagadeesh.k\\anaconda3\\lib\\site-packages (from pandas) (2022.1)\n",
      "Requirement already satisfied: python-dateutil>=2.8.1 in c:\\users\\jagadeesh.k\\anaconda3\\lib\\site-packages (from pandas) (2.8.2)\n",
      "Requirement already satisfied: et_xmlfile in c:\\users\\jagadeesh.k\\anaconda3\\lib\\site-packages (from openpyxl) (1.1.0)\n",
      "Requirement already satisfied: pillow>=6.2.0 in c:\\users\\jagadeesh.k\\anaconda3\\lib\\site-packages (from matplotlib) (9.2.0)\n",
      "Requirement already satisfied: fonttools>=4.22.0 in c:\\users\\jagadeesh.k\\anaconda3\\lib\\site-packages (from matplotlib) (4.25.0)\n",
      "Requirement already satisfied: packaging>=20.0 in c:\\users\\jagadeesh.k\\anaconda3\\lib\\site-packages (from matplotlib) (21.3)\n",
      "Requirement already satisfied: kiwisolver>=1.0.1 in c:\\users\\jagadeesh.k\\anaconda3\\lib\\site-packages (from matplotlib) (1.4.2)\n",
      "Requirement already satisfied: pyparsing>=2.2.1 in c:\\users\\jagadeesh.k\\anaconda3\\lib\\site-packages (from matplotlib) (3.0.9)\n",
      "Requirement already satisfied: cycler>=0.10 in c:\\users\\jagadeesh.k\\anaconda3\\lib\\site-packages (from matplotlib) (0.11.0)\n",
      "Requirement already satisfied: six>=1.5 in c:\\users\\jagadeesh.k\\anaconda3\\lib\\site-packages (from python-dateutil>=2.8.1->pandas) (1.16.0)\n",
      "Note: you may need to restart the kernel to use updated packages.\n"
     ]
    }
   ],
   "source": [
    "pip install pandas openpyxl matplotlib"
   ]
  },
  {
   "cell_type": "code",
   "execution_count": 1,
   "id": "1a101978",
   "metadata": {},
   "outputs": [
    {
     "name": "stdout",
     "output_type": "stream",
     "text": [
      "Note: you may need to restart the kernel to use updated packages.\n"
     ]
    },
    {
     "name": "stderr",
     "output_type": "stream",
     "text": [
      "ERROR: Could not find a version that satisfies the requirement pyxl2pdf (from versions: none)\n",
      "ERROR: No matching distribution found for pyxl2pdf\n"
     ]
    }
   ],
   "source": [
    "pip install pyxl2pdf"
   ]
  },
  {
   "cell_type": "code",
   "execution_count": 2,
   "id": "11d62b48",
   "metadata": {},
   "outputs": [
    {
     "name": "stdout",
     "output_type": "stream",
     "text": [
      "Collecting pyexcelerate\n",
      "  Downloading PyExcelerate-0.10.0-py3-none-any.whl (27 kB)\n",
      "Requirement already satisfied: six>=1.4.0 in c:\\users\\jagadeesh.k\\anaconda3\\lib\\site-packages (from pyexcelerate) (1.16.0)\n",
      "Requirement already satisfied: Jinja2 in c:\\users\\jagadeesh.k\\anaconda3\\lib\\site-packages (from pyexcelerate) (2.11.3)\n",
      "Requirement already satisfied: MarkupSafe>=0.23 in c:\\users\\jagadeesh.k\\anaconda3\\lib\\site-packages (from Jinja2->pyexcelerate) (2.0.1)\n",
      "Installing collected packages: pyexcelerate\n",
      "Successfully installed pyexcelerate-0.10.0\n",
      "Note: you may need to restart the kernel to use updated packages.\n"
     ]
    }
   ],
   "source": [
    "pip install pyexcelerate"
   ]
  },
  {
   "cell_type": "code",
   "execution_count": 1,
   "id": "3ec1f476",
   "metadata": {},
   "outputs": [
    {
     "name": "stdout",
     "output_type": "stream",
     "text": [
      "Collecting jupyterthemes\n",
      "  Downloading jupyterthemes-0.20.0-py2.py3-none-any.whl (7.0 MB)\n",
      "     ---------------------------------------- 7.0/7.0 MB 5.8 MB/s eta 0:00:00\n",
      "Requirement already satisfied: notebook>=5.6.0 in c:\\users\\jagadeesh.k\\anaconda3\\lib\\site-packages (from jupyterthemes) (6.4.12)\n",
      "Collecting lesscpy>=0.11.2\n",
      "  Downloading lesscpy-0.15.1-py2.py3-none-any.whl (46 kB)\n",
      "     ---------------------------------------- 46.7/46.7 kB ? eta 0:00:00\n",
      "Requirement already satisfied: matplotlib>=1.4.3 in c:\\users\\jagadeesh.k\\anaconda3\\lib\\site-packages (from jupyterthemes) (3.5.2)\n",
      "Requirement already satisfied: jupyter-core in c:\\users\\jagadeesh.k\\anaconda3\\lib\\site-packages (from jupyterthemes) (4.11.1)\n",
      "Requirement already satisfied: ipython>=5.4.1 in c:\\users\\jagadeesh.k\\anaconda3\\lib\\site-packages (from jupyterthemes) (7.31.1)\n",
      "Requirement already satisfied: colorama in c:\\users\\jagadeesh.k\\anaconda3\\lib\\site-packages (from ipython>=5.4.1->jupyterthemes) (0.4.5)\n",
      "Requirement already satisfied: backcall in c:\\users\\jagadeesh.k\\anaconda3\\lib\\site-packages (from ipython>=5.4.1->jupyterthemes) (0.2.0)\n",
      "Requirement already satisfied: setuptools>=18.5 in c:\\users\\jagadeesh.k\\anaconda3\\lib\\site-packages (from ipython>=5.4.1->jupyterthemes) (63.4.1)\n",
      "Requirement already satisfied: pickleshare in c:\\users\\jagadeesh.k\\anaconda3\\lib\\site-packages (from ipython>=5.4.1->jupyterthemes) (0.7.5)\n",
      "Requirement already satisfied: traitlets>=4.2 in c:\\users\\jagadeesh.k\\anaconda3\\lib\\site-packages (from ipython>=5.4.1->jupyterthemes) (5.1.1)\n",
      "Requirement already satisfied: pygments in c:\\users\\jagadeesh.k\\anaconda3\\lib\\site-packages (from ipython>=5.4.1->jupyterthemes) (2.11.2)\n",
      "Requirement already satisfied: jedi>=0.16 in c:\\users\\jagadeesh.k\\anaconda3\\lib\\site-packages (from ipython>=5.4.1->jupyterthemes) (0.18.1)\n",
      "Requirement already satisfied: prompt-toolkit!=3.0.0,!=3.0.1,<3.1.0,>=2.0.0 in c:\\users\\jagadeesh.k\\anaconda3\\lib\\site-packages (from ipython>=5.4.1->jupyterthemes) (3.0.20)\n",
      "Requirement already satisfied: matplotlib-inline in c:\\users\\jagadeesh.k\\anaconda3\\lib\\site-packages (from ipython>=5.4.1->jupyterthemes) (0.1.6)\n",
      "Requirement already satisfied: decorator in c:\\users\\jagadeesh.k\\anaconda3\\lib\\site-packages (from ipython>=5.4.1->jupyterthemes) (5.1.1)\n",
      "Collecting ply\n",
      "  Downloading ply-3.11-py2.py3-none-any.whl (49 kB)\n",
      "     ---------------------------------------- 49.6/49.6 kB 2.6 MB/s eta 0:00:00\n",
      "Requirement already satisfied: pyparsing>=2.2.1 in c:\\users\\jagadeesh.k\\anaconda3\\lib\\site-packages (from matplotlib>=1.4.3->jupyterthemes) (3.0.9)\n",
      "Requirement already satisfied: numpy>=1.17 in c:\\users\\jagadeesh.k\\anaconda3\\lib\\site-packages (from matplotlib>=1.4.3->jupyterthemes) (1.21.5)\n",
      "Requirement already satisfied: cycler>=0.10 in c:\\users\\jagadeesh.k\\anaconda3\\lib\\site-packages (from matplotlib>=1.4.3->jupyterthemes) (0.11.0)\n",
      "Requirement already satisfied: pillow>=6.2.0 in c:\\users\\jagadeesh.k\\anaconda3\\lib\\site-packages (from matplotlib>=1.4.3->jupyterthemes) (9.2.0)\n",
      "Requirement already satisfied: kiwisolver>=1.0.1 in c:\\users\\jagadeesh.k\\anaconda3\\lib\\site-packages (from matplotlib>=1.4.3->jupyterthemes) (1.4.2)\n",
      "Requirement already satisfied: fonttools>=4.22.0 in c:\\users\\jagadeesh.k\\anaconda3\\lib\\site-packages (from matplotlib>=1.4.3->jupyterthemes) (4.25.0)\n",
      "Requirement already satisfied: python-dateutil>=2.7 in c:\\users\\jagadeesh.k\\anaconda3\\lib\\site-packages (from matplotlib>=1.4.3->jupyterthemes) (2.8.2)\n",
      "Requirement already satisfied: packaging>=20.0 in c:\\users\\jagadeesh.k\\anaconda3\\lib\\site-packages (from matplotlib>=1.4.3->jupyterthemes) (21.3)\n",
      "Requirement already satisfied: jinja2 in c:\\users\\jagadeesh.k\\anaconda3\\lib\\site-packages (from notebook>=5.6.0->jupyterthemes) (2.11.3)\n",
      "Requirement already satisfied: nbconvert>=5 in c:\\users\\jagadeesh.k\\anaconda3\\lib\\site-packages (from notebook>=5.6.0->jupyterthemes) (6.4.4)\n",
      "Requirement already satisfied: argon2-cffi in c:\\users\\jagadeesh.k\\anaconda3\\lib\\site-packages (from notebook>=5.6.0->jupyterthemes) (21.3.0)\n",
      "Requirement already satisfied: ipykernel in c:\\users\\jagadeesh.k\\anaconda3\\lib\\site-packages (from notebook>=5.6.0->jupyterthemes) (6.15.2)\n",
      "Requirement already satisfied: prometheus-client in c:\\users\\jagadeesh.k\\anaconda3\\lib\\site-packages (from notebook>=5.6.0->jupyterthemes) (0.14.1)\n",
      "Requirement already satisfied: tornado>=6.1 in c:\\users\\jagadeesh.k\\anaconda3\\lib\\site-packages (from notebook>=5.6.0->jupyterthemes) (6.1)\n",
      "Requirement already satisfied: nbformat in c:\\users\\jagadeesh.k\\anaconda3\\lib\\site-packages (from notebook>=5.6.0->jupyterthemes) (5.5.0)\n",
      "Requirement already satisfied: Send2Trash>=1.8.0 in c:\\users\\jagadeesh.k\\anaconda3\\lib\\site-packages (from notebook>=5.6.0->jupyterthemes) (1.8.0)\n",
      "Requirement already satisfied: nest-asyncio>=1.5 in c:\\users\\jagadeesh.k\\anaconda3\\lib\\site-packages (from notebook>=5.6.0->jupyterthemes) (1.5.5)\n",
      "Requirement already satisfied: jupyter-client>=5.3.4 in c:\\users\\jagadeesh.k\\anaconda3\\lib\\site-packages (from notebook>=5.6.0->jupyterthemes) (7.3.4)\n",
      "Requirement already satisfied: ipython-genutils in c:\\users\\jagadeesh.k\\anaconda3\\lib\\site-packages (from notebook>=5.6.0->jupyterthemes) (0.2.0)\n",
      "Requirement already satisfied: pyzmq>=17 in c:\\users\\jagadeesh.k\\anaconda3\\lib\\site-packages (from notebook>=5.6.0->jupyterthemes) (23.2.0)\n",
      "Requirement already satisfied: terminado>=0.8.3 in c:\\users\\jagadeesh.k\\anaconda3\\lib\\site-packages (from notebook>=5.6.0->jupyterthemes) (0.13.1)\n",
      "Requirement already satisfied: pywin32>=1.0 in c:\\users\\jagadeesh.k\\anaconda3\\lib\\site-packages (from jupyter-core->jupyterthemes) (302)\n",
      "Requirement already satisfied: parso<0.9.0,>=0.8.0 in c:\\users\\jagadeesh.k\\anaconda3\\lib\\site-packages (from jedi>=0.16->ipython>=5.4.1->jupyterthemes) (0.8.3)\n",
      "Requirement already satisfied: entrypoints in c:\\users\\jagadeesh.k\\anaconda3\\lib\\site-packages (from jupyter-client>=5.3.4->notebook>=5.6.0->jupyterthemes) (0.4)\n",
      "Requirement already satisfied: defusedxml in c:\\users\\jagadeesh.k\\anaconda3\\lib\\site-packages (from nbconvert>=5->notebook>=5.6.0->jupyterthemes) (0.7.1)\n",
      "Requirement already satisfied: testpath in c:\\users\\jagadeesh.k\\anaconda3\\lib\\site-packages (from nbconvert>=5->notebook>=5.6.0->jupyterthemes) (0.6.0)\n",
      "Requirement already satisfied: beautifulsoup4 in c:\\users\\jagadeesh.k\\anaconda3\\lib\\site-packages (from nbconvert>=5->notebook>=5.6.0->jupyterthemes) (4.11.1)\n",
      "Requirement already satisfied: pandocfilters>=1.4.1 in c:\\users\\jagadeesh.k\\anaconda3\\lib\\site-packages (from nbconvert>=5->notebook>=5.6.0->jupyterthemes) (1.5.0)\n",
      "Requirement already satisfied: nbclient<0.6.0,>=0.5.0 in c:\\users\\jagadeesh.k\\anaconda3\\lib\\site-packages (from nbconvert>=5->notebook>=5.6.0->jupyterthemes) (0.5.13)\n",
      "Requirement already satisfied: bleach in c:\\users\\jagadeesh.k\\anaconda3\\lib\\site-packages (from nbconvert>=5->notebook>=5.6.0->jupyterthemes) (4.1.0)\n",
      "Requirement already satisfied: mistune<2,>=0.8.1 in c:\\users\\jagadeesh.k\\anaconda3\\lib\\site-packages (from nbconvert>=5->notebook>=5.6.0->jupyterthemes) (0.8.4)\n",
      "Requirement already satisfied: jupyterlab-pygments in c:\\users\\jagadeesh.k\\anaconda3\\lib\\site-packages (from nbconvert>=5->notebook>=5.6.0->jupyterthemes) (0.1.2)\n",
      "Requirement already satisfied: MarkupSafe>=0.23 in c:\\users\\jagadeesh.k\\anaconda3\\lib\\site-packages (from jinja2->notebook>=5.6.0->jupyterthemes) (2.0.1)\n",
      "Requirement already satisfied: jsonschema>=2.6 in c:\\users\\jagadeesh.k\\anaconda3\\lib\\site-packages (from nbformat->notebook>=5.6.0->jupyterthemes) (4.16.0)\n",
      "Requirement already satisfied: fastjsonschema in c:\\users\\jagadeesh.k\\anaconda3\\lib\\site-packages (from nbformat->notebook>=5.6.0->jupyterthemes) (2.16.2)\n",
      "Requirement already satisfied: wcwidth in c:\\users\\jagadeesh.k\\anaconda3\\lib\\site-packages (from prompt-toolkit!=3.0.0,!=3.0.1,<3.1.0,>=2.0.0->ipython>=5.4.1->jupyterthemes) (0.2.5)\n",
      "Requirement already satisfied: six>=1.5 in c:\\users\\jagadeesh.k\\anaconda3\\lib\\site-packages (from python-dateutil>=2.7->matplotlib>=1.4.3->jupyterthemes) (1.16.0)\n",
      "Requirement already satisfied: pywinpty>=1.1.0 in c:\\users\\jagadeesh.k\\anaconda3\\lib\\site-packages (from terminado>=0.8.3->notebook>=5.6.0->jupyterthemes) (2.0.2)\n",
      "Requirement already satisfied: argon2-cffi-bindings in c:\\users\\jagadeesh.k\\anaconda3\\lib\\site-packages (from argon2-cffi->notebook>=5.6.0->jupyterthemes) (21.2.0)\n",
      "Requirement already satisfied: debugpy>=1.0 in c:\\users\\jagadeesh.k\\anaconda3\\lib\\site-packages (from ipykernel->notebook>=5.6.0->jupyterthemes) (1.5.1)\n",
      "Requirement already satisfied: psutil in c:\\users\\jagadeesh.k\\anaconda3\\lib\\site-packages (from ipykernel->notebook>=5.6.0->jupyterthemes) (5.9.0)\n",
      "Requirement already satisfied: attrs>=17.4.0 in c:\\users\\jagadeesh.k\\anaconda3\\lib\\site-packages (from jsonschema>=2.6->nbformat->notebook>=5.6.0->jupyterthemes) (21.4.0)\n",
      "Requirement already satisfied: pyrsistent!=0.17.0,!=0.17.1,!=0.17.2,>=0.14.0 in c:\\users\\jagadeesh.k\\anaconda3\\lib\\site-packages (from jsonschema>=2.6->nbformat->notebook>=5.6.0->jupyterthemes) (0.18.0)\n",
      "Requirement already satisfied: cffi>=1.0.1 in c:\\users\\jagadeesh.k\\anaconda3\\lib\\site-packages (from argon2-cffi-bindings->argon2-cffi->notebook>=5.6.0->jupyterthemes) (1.15.1)\n",
      "Requirement already satisfied: soupsieve>1.2 in c:\\users\\jagadeesh.k\\anaconda3\\lib\\site-packages (from beautifulsoup4->nbconvert>=5->notebook>=5.6.0->jupyterthemes) (2.3.1)\n",
      "Requirement already satisfied: webencodings in c:\\users\\jagadeesh.k\\anaconda3\\lib\\site-packages (from bleach->nbconvert>=5->notebook>=5.6.0->jupyterthemes) (0.5.1)\n",
      "Requirement already satisfied: pycparser in c:\\users\\jagadeesh.k\\anaconda3\\lib\\site-packages (from cffi>=1.0.1->argon2-cffi-bindings->argon2-cffi->notebook>=5.6.0->jupyterthemes) (2.21)\n",
      "Installing collected packages: ply, lesscpy, jupyterthemes\n",
      "Successfully installed jupyterthemes-0.20.0 lesscpy-0.15.1 ply-3.11\n",
      "Note: you may need to restart the kernel to use updated packages.\n"
     ]
    }
   ],
   "source": [
    "pip install jupyterthemes"
   ]
  },
  {
   "cell_type": "code",
   "execution_count": 1,
   "id": "2105d065",
   "metadata": {},
   "outputs": [
    {
     "name": "stdout",
     "output_type": "stream",
     "text": [
      "Collecting python-oauth2\n",
      "  Downloading python-oauth2-1.1.1.tar.gz (45 kB)\n",
      "     ---------------------------------------- 45.4/45.4 kB 1.1 MB/s eta 0:00:00\n",
      "  Preparing metadata (setup.py): started\n",
      "  Preparing metadata (setup.py): finished with status 'done'\n",
      "Building wheels for collected packages: python-oauth2\n",
      "  Building wheel for python-oauth2 (setup.py): started\n",
      "  Building wheel for python-oauth2 (setup.py): finished with status 'done'\n",
      "  Created wheel for python-oauth2: filename=python_oauth2-1.1.1-py3-none-any.whl size=57436 sha256=f2075383c7d80ad31d6fcf5c0690df9a1da6dad0e350995ad828732875ff3b65\n",
      "  Stored in directory: c:\\users\\jagadeesh.k\\appdata\\local\\pip\\cache\\wheels\\37\\a6\\1c\\c66b90be3585bdcd98bf3139ecd1a3d75973689bcbcd6b6ebe\n",
      "Successfully built python-oauth2\n",
      "Installing collected packages: python-oauth2\n",
      "Successfully installed python-oauth2-1.1.1\n",
      "Note: you may need to restart the kernel to use updated packages.\n"
     ]
    }
   ],
   "source": [
    "pip install python-oauth2"
   ]
  },
  {
   "cell_type": "code",
   "execution_count": 2,
   "id": "3f2285ec",
   "metadata": {},
   "outputs": [
    {
     "name": "stdout",
     "output_type": "stream",
     "text": [
      "Collecting oauth2client\n",
      "  Downloading oauth2client-4.1.3-py2.py3-none-any.whl (98 kB)\n",
      "     ---------------------------------------- 98.2/98.2 kB 1.4 MB/s eta 0:00:00\n",
      "Requirement already satisfied: six>=1.6.1 in c:\\users\\jagadeesh.k\\anaconda3\\lib\\site-packages (from oauth2client) (1.16.0)\n",
      "Requirement already satisfied: pyasn1-modules>=0.0.5 in c:\\users\\jagadeesh.k\\anaconda3\\lib\\site-packages (from oauth2client) (0.2.8)\n",
      "Collecting httplib2>=0.9.1\n",
      "  Downloading httplib2-0.22.0-py3-none-any.whl (96 kB)\n",
      "     -------------------------------------- 96.9/96.9 kB 346.5 kB/s eta 0:00:00\n",
      "Collecting rsa>=3.1.4\n",
      "  Downloading rsa-4.9-py3-none-any.whl (34 kB)\n",
      "Requirement already satisfied: pyasn1>=0.1.7 in c:\\users\\jagadeesh.k\\anaconda3\\lib\\site-packages (from oauth2client) (0.4.8)\n",
      "Requirement already satisfied: pyparsing!=3.0.0,!=3.0.1,!=3.0.2,!=3.0.3,<4,>=2.4.2 in c:\\users\\jagadeesh.k\\anaconda3\\lib\\site-packages (from httplib2>=0.9.1->oauth2client) (3.0.9)\n",
      "Installing collected packages: rsa, httplib2, oauth2client\n",
      "Successfully installed httplib2-0.22.0 oauth2client-4.1.3 rsa-4.9\n",
      "Note: you may need to restart the kernel to use updated packages.\n"
     ]
    }
   ],
   "source": [
    "pip install oauth2client"
   ]
  },
  {
   "cell_type": "code",
   "execution_count": 1,
   "id": "94c1a0c7",
   "metadata": {},
   "outputs": [
    {
     "name": "stdout",
     "output_type": "stream",
     "text": [
      "Requirement already satisfied: nbconvert[webpdf] in c:\\users\\jagadeesh.k\\anaconda3\\lib\\site-packages (6.4.4)\n",
      "Requirement already satisfied: nbformat>=4.4 in c:\\users\\jagadeesh.k\\anaconda3\\lib\\site-packages (from nbconvert[webpdf]) (5.5.0)\n",
      "Requirement already satisfied: jupyter-core in c:\\users\\jagadeesh.k\\anaconda3\\lib\\site-packages (from nbconvert[webpdf]) (4.11.1)\n",
      "Requirement already satisfied: jinja2>=2.4 in c:\\users\\jagadeesh.k\\anaconda3\\lib\\site-packages (from nbconvert[webpdf]) (2.11.3)\n",
      "Requirement already satisfied: entrypoints>=0.2.2 in c:\\users\\jagadeesh.k\\anaconda3\\lib\\site-packages (from nbconvert[webpdf]) (0.4)\n",
      "Requirement already satisfied: pandocfilters>=1.4.1 in c:\\users\\jagadeesh.k\\anaconda3\\lib\\site-packages (from nbconvert[webpdf]) (1.5.0)\n",
      "Requirement already satisfied: pygments>=2.4.1 in c:\\users\\jagadeesh.k\\anaconda3\\lib\\site-packages (from nbconvert[webpdf]) (2.11.2)\n",
      "Requirement already satisfied: jupyterlab-pygments in c:\\users\\jagadeesh.k\\anaconda3\\lib\\site-packages (from nbconvert[webpdf]) (0.1.2)\n",
      "Requirement already satisfied: testpath in c:\\users\\jagadeesh.k\\anaconda3\\lib\\site-packages (from nbconvert[webpdf]) (0.6.0)\n",
      "Requirement already satisfied: defusedxml in c:\\users\\jagadeesh.k\\anaconda3\\lib\\site-packages (from nbconvert[webpdf]) (0.7.1)\n",
      "Requirement already satisfied: beautifulsoup4 in c:\\users\\jagadeesh.k\\anaconda3\\lib\\site-packages (from nbconvert[webpdf]) (4.11.1)\n",
      "Requirement already satisfied: nbclient<0.6.0,>=0.5.0 in c:\\users\\jagadeesh.k\\anaconda3\\lib\\site-packages (from nbconvert[webpdf]) (0.5.13)\n",
      "Requirement already satisfied: bleach in c:\\users\\jagadeesh.k\\anaconda3\\lib\\site-packages (from nbconvert[webpdf]) (4.1.0)\n",
      "Requirement already satisfied: mistune<2,>=0.8.1 in c:\\users\\jagadeesh.k\\anaconda3\\lib\\site-packages (from nbconvert[webpdf]) (0.8.4)\n",
      "Requirement already satisfied: traitlets>=5.0 in c:\\users\\jagadeesh.k\\anaconda3\\lib\\site-packages (from nbconvert[webpdf]) (5.1.1)\n",
      "Collecting pyppeteer<1.1,>=1\n",
      "  Downloading pyppeteer-1.0.2-py3-none-any.whl (83 kB)\n",
      "     -------------------------------------- 83.4/83.4 kB 203.2 kB/s eta 0:00:00\n",
      "Requirement already satisfied: MarkupSafe>=0.23 in c:\\users\\jagadeesh.k\\anaconda3\\lib\\site-packages (from jinja2>=2.4->nbconvert[webpdf]) (2.0.1)\n",
      "Requirement already satisfied: nest-asyncio in c:\\users\\jagadeesh.k\\anaconda3\\lib\\site-packages (from nbclient<0.6.0,>=0.5.0->nbconvert[webpdf]) (1.5.5)\n",
      "Requirement already satisfied: jupyter-client>=6.1.5 in c:\\users\\jagadeesh.k\\anaconda3\\lib\\site-packages (from nbclient<0.6.0,>=0.5.0->nbconvert[webpdf]) (7.3.4)\n",
      "Requirement already satisfied: fastjsonschema in c:\\users\\jagadeesh.k\\anaconda3\\lib\\site-packages (from nbformat>=4.4->nbconvert[webpdf]) (2.16.2)\n",
      "Requirement already satisfied: jsonschema>=2.6 in c:\\users\\jagadeesh.k\\anaconda3\\lib\\site-packages (from nbformat>=4.4->nbconvert[webpdf]) (4.16.0)\n",
      "Requirement already satisfied: urllib3<2.0.0,>=1.25.8 in c:\\users\\jagadeesh.k\\anaconda3\\lib\\site-packages (from pyppeteer<1.1,>=1->nbconvert[webpdf]) (1.26.11)\n",
      "Requirement already satisfied: tqdm<5.0.0,>=4.42.1 in c:\\users\\jagadeesh.k\\anaconda3\\lib\\site-packages (from pyppeteer<1.1,>=1->nbconvert[webpdf]) (4.64.1)\n",
      "Collecting pyee<9.0.0,>=8.1.0\n",
      "  Downloading pyee-8.2.2-py2.py3-none-any.whl (12 kB)\n",
      "Requirement already satisfied: importlib-metadata>=1.4 in c:\\users\\jagadeesh.k\\anaconda3\\lib\\site-packages (from pyppeteer<1.1,>=1->nbconvert[webpdf]) (4.11.3)\n",
      "Requirement already satisfied: appdirs<2.0.0,>=1.4.3 in c:\\users\\jagadeesh.k\\anaconda3\\lib\\site-packages (from pyppeteer<1.1,>=1->nbconvert[webpdf]) (1.4.4)\n",
      "Requirement already satisfied: certifi>=2021 in c:\\users\\jagadeesh.k\\anaconda3\\lib\\site-packages (from pyppeteer<1.1,>=1->nbconvert[webpdf]) (2022.9.14)\n",
      "Collecting websockets<11.0,>=10.0\n",
      "  Downloading websockets-10.4-cp39-cp39-win_amd64.whl (101 kB)\n",
      "     -------------------------------------- 101.4/101.4 kB 1.2 MB/s eta 0:00:00\n",
      "Requirement already satisfied: soupsieve>1.2 in c:\\users\\jagadeesh.k\\anaconda3\\lib\\site-packages (from beautifulsoup4->nbconvert[webpdf]) (2.3.1)\n",
      "Requirement already satisfied: six>=1.9.0 in c:\\users\\jagadeesh.k\\anaconda3\\lib\\site-packages (from bleach->nbconvert[webpdf]) (1.16.0)\n",
      "Requirement already satisfied: packaging in c:\\users\\jagadeesh.k\\anaconda3\\lib\\site-packages (from bleach->nbconvert[webpdf]) (21.3)\n",
      "Requirement already satisfied: webencodings in c:\\users\\jagadeesh.k\\anaconda3\\lib\\site-packages (from bleach->nbconvert[webpdf]) (0.5.1)\n",
      "Requirement already satisfied: pywin32>=1.0 in c:\\users\\jagadeesh.k\\anaconda3\\lib\\site-packages (from jupyter-core->nbconvert[webpdf]) (302)\n",
      "Requirement already satisfied: zipp>=0.5 in c:\\users\\jagadeesh.k\\anaconda3\\lib\\site-packages (from importlib-metadata>=1.4->pyppeteer<1.1,>=1->nbconvert[webpdf]) (3.8.0)\n",
      "Requirement already satisfied: attrs>=17.4.0 in c:\\users\\jagadeesh.k\\anaconda3\\lib\\site-packages (from jsonschema>=2.6->nbformat>=4.4->nbconvert[webpdf]) (21.4.0)\n",
      "Requirement already satisfied: pyrsistent!=0.17.0,!=0.17.1,!=0.17.2,>=0.14.0 in c:\\users\\jagadeesh.k\\anaconda3\\lib\\site-packages (from jsonschema>=2.6->nbformat>=4.4->nbconvert[webpdf]) (0.18.0)\n",
      "Requirement already satisfied: pyzmq>=23.0 in c:\\users\\jagadeesh.k\\anaconda3\\lib\\site-packages (from jupyter-client>=6.1.5->nbclient<0.6.0,>=0.5.0->nbconvert[webpdf]) (23.2.0)\n",
      "Requirement already satisfied: tornado>=6.0 in c:\\users\\jagadeesh.k\\anaconda3\\lib\\site-packages (from jupyter-client>=6.1.5->nbclient<0.6.0,>=0.5.0->nbconvert[webpdf]) (6.1)\n",
      "Requirement already satisfied: python-dateutil>=2.8.2 in c:\\users\\jagadeesh.k\\anaconda3\\lib\\site-packages (from jupyter-client>=6.1.5->nbclient<0.6.0,>=0.5.0->nbconvert[webpdf]) (2.8.2)\n",
      "Requirement already satisfied: colorama in c:\\users\\jagadeesh.k\\anaconda3\\lib\\site-packages (from tqdm<5.0.0,>=4.42.1->pyppeteer<1.1,>=1->nbconvert[webpdf]) (0.4.5)\n",
      "Requirement already satisfied: pyparsing!=3.0.5,>=2.0.2 in c:\\users\\jagadeesh.k\\anaconda3\\lib\\site-packages (from packaging->bleach->nbconvert[webpdf]) (3.0.9)\n",
      "Installing collected packages: pyee, websockets, pyppeteer\n",
      "Successfully installed pyee-8.2.2 pyppeteer-1.0.2 websockets-10.4\n",
      "Note: you may need to restart the kernel to use updated packages.\n"
     ]
    }
   ],
   "source": [
    "pip install nbconvert[webpdf]"
   ]
  },
  {
   "cell_type": "code",
   "execution_count": 1,
   "id": "897bef06",
   "metadata": {},
   "outputs": [
    {
     "name": "stdout",
     "output_type": "stream",
     "text": [
      "Requirement already satisfied: jupyter in c:\\users\\jagadeesh.k\\anaconda3\\lib\\site-packages (1.0.0)\n",
      "Requirement already satisfied: nbconvert in c:\\users\\jagadeesh.k\\anaconda3\\lib\\site-packages (6.4.4)\n",
      "Requirement already satisfied: qtconsole in c:\\users\\jagadeesh.k\\anaconda3\\lib\\site-packages (from jupyter) (5.2.2)\n",
      "Requirement already satisfied: ipywidgets in c:\\users\\jagadeesh.k\\anaconda3\\lib\\site-packages (from jupyter) (7.6.5)\n",
      "Requirement already satisfied: notebook in c:\\users\\jagadeesh.k\\anaconda3\\lib\\site-packages (from jupyter) (6.4.12)\n",
      "Requirement already satisfied: ipykernel in c:\\users\\jagadeesh.k\\anaconda3\\lib\\site-packages (from jupyter) (6.15.2)\n",
      "Requirement already satisfied: jupyter-console in c:\\users\\jagadeesh.k\\anaconda3\\lib\\site-packages (from jupyter) (6.4.3)\n",
      "Requirement already satisfied: jupyterlab-pygments in c:\\users\\jagadeesh.k\\anaconda3\\lib\\site-packages (from nbconvert) (0.1.2)\n",
      "Requirement already satisfied: bleach in c:\\users\\jagadeesh.k\\anaconda3\\lib\\site-packages (from nbconvert) (4.1.0)\n",
      "Requirement already satisfied: pandocfilters>=1.4.1 in c:\\users\\jagadeesh.k\\anaconda3\\lib\\site-packages (from nbconvert) (1.5.0)\n",
      "Requirement already satisfied: entrypoints>=0.2.2 in c:\\users\\jagadeesh.k\\anaconda3\\lib\\site-packages (from nbconvert) (0.4)\n",
      "Requirement already satisfied: beautifulsoup4 in c:\\users\\jagadeesh.k\\anaconda3\\lib\\site-packages (from nbconvert) (4.11.1)\n",
      "Requirement already satisfied: nbclient<0.6.0,>=0.5.0 in c:\\users\\jagadeesh.k\\anaconda3\\lib\\site-packages (from nbconvert) (0.5.13)\n",
      "Requirement already satisfied: pygments>=2.4.1 in c:\\users\\jagadeesh.k\\anaconda3\\lib\\site-packages (from nbconvert) (2.11.2)\n",
      "Requirement already satisfied: jupyter-core in c:\\users\\jagadeesh.k\\anaconda3\\lib\\site-packages (from nbconvert) (4.11.1)\n",
      "Requirement already satisfied: mistune<2,>=0.8.1 in c:\\users\\jagadeesh.k\\anaconda3\\lib\\site-packages (from nbconvert) (0.8.4)\n",
      "Requirement already satisfied: nbformat>=4.4 in c:\\users\\jagadeesh.k\\anaconda3\\lib\\site-packages (from nbconvert) (5.5.0)\n",
      "Requirement already satisfied: defusedxml in c:\\users\\jagadeesh.k\\anaconda3\\lib\\site-packages (from nbconvert) (0.7.1)\n",
      "Requirement already satisfied: jinja2>=2.4 in c:\\users\\jagadeesh.k\\anaconda3\\lib\\site-packages (from nbconvert) (2.11.3)\n",
      "Requirement already satisfied: testpath in c:\\users\\jagadeesh.k\\anaconda3\\lib\\site-packages (from nbconvert) (0.6.0)\n",
      "Requirement already satisfied: traitlets>=5.0 in c:\\users\\jagadeesh.k\\anaconda3\\lib\\site-packages (from nbconvert) (5.1.1)\n",
      "Requirement already satisfied: MarkupSafe>=0.23 in c:\\users\\jagadeesh.k\\anaconda3\\lib\\site-packages (from jinja2>=2.4->nbconvert) (2.0.1)\n",
      "Requirement already satisfied: jupyter-client>=6.1.5 in c:\\users\\jagadeesh.k\\anaconda3\\lib\\site-packages (from nbclient<0.6.0,>=0.5.0->nbconvert) (7.3.4)\n",
      "Requirement already satisfied: nest-asyncio in c:\\users\\jagadeesh.k\\anaconda3\\lib\\site-packages (from nbclient<0.6.0,>=0.5.0->nbconvert) (1.5.5)\n",
      "Requirement already satisfied: jsonschema>=2.6 in c:\\users\\jagadeesh.k\\anaconda3\\lib\\site-packages (from nbformat>=4.4->nbconvert) (4.16.0)\n",
      "Requirement already satisfied: fastjsonschema in c:\\users\\jagadeesh.k\\anaconda3\\lib\\site-packages (from nbformat>=4.4->nbconvert) (2.16.2)\n",
      "Requirement already satisfied: soupsieve>1.2 in c:\\users\\jagadeesh.k\\anaconda3\\lib\\site-packages (from beautifulsoup4->nbconvert) (2.3.1)\n",
      "Requirement already satisfied: packaging in c:\\users\\jagadeesh.k\\anaconda3\\lib\\site-packages (from bleach->nbconvert) (21.3)\n",
      "Requirement already satisfied: six>=1.9.0 in c:\\users\\jagadeesh.k\\anaconda3\\lib\\site-packages (from bleach->nbconvert) (1.16.0)\n",
      "Requirement already satisfied: webencodings in c:\\users\\jagadeesh.k\\anaconda3\\lib\\site-packages (from bleach->nbconvert) (0.5.1)\n",
      "Requirement already satisfied: ipython>=7.23.1 in c:\\users\\jagadeesh.k\\anaconda3\\lib\\site-packages (from ipykernel->jupyter) (7.31.1)\n",
      "Requirement already satisfied: tornado>=6.1 in c:\\users\\jagadeesh.k\\anaconda3\\lib\\site-packages (from ipykernel->jupyter) (6.1)\n",
      "Requirement already satisfied: pyzmq>=17 in c:\\users\\jagadeesh.k\\anaconda3\\lib\\site-packages (from ipykernel->jupyter) (23.2.0)\n",
      "Requirement already satisfied: debugpy>=1.0 in c:\\users\\jagadeesh.k\\anaconda3\\lib\\site-packages (from ipykernel->jupyter) (1.5.1)\n",
      "Requirement already satisfied: psutil in c:\\users\\jagadeesh.k\\anaconda3\\lib\\site-packages (from ipykernel->jupyter) (5.9.0)\n",
      "Requirement already satisfied: matplotlib-inline>=0.1 in c:\\users\\jagadeesh.k\\anaconda3\\lib\\site-packages (from ipykernel->jupyter) (0.1.6)\n",
      "Requirement already satisfied: widgetsnbextension~=3.5.0 in c:\\users\\jagadeesh.k\\anaconda3\\lib\\site-packages (from ipywidgets->jupyter) (3.5.2)\n",
      "Requirement already satisfied: jupyterlab-widgets>=1.0.0 in c:\\users\\jagadeesh.k\\anaconda3\\lib\\site-packages (from ipywidgets->jupyter) (1.0.0)\n",
      "Requirement already satisfied: ipython-genutils~=0.2.0 in c:\\users\\jagadeesh.k\\anaconda3\\lib\\site-packages (from ipywidgets->jupyter) (0.2.0)\n",
      "Requirement already satisfied: prompt-toolkit!=3.0.0,!=3.0.1,<3.1.0,>=2.0.0 in c:\\users\\jagadeesh.k\\anaconda3\\lib\\site-packages (from jupyter-console->jupyter) (3.0.20)\n",
      "Requirement already satisfied: pywin32>=1.0 in c:\\users\\jagadeesh.k\\anaconda3\\lib\\site-packages (from jupyter-core->nbconvert) (302)\n",
      "Requirement already satisfied: argon2-cffi in c:\\users\\jagadeesh.k\\anaconda3\\lib\\site-packages (from notebook->jupyter) (21.3.0)\n",
      "Requirement already satisfied: Send2Trash>=1.8.0 in c:\\users\\jagadeesh.k\\anaconda3\\lib\\site-packages (from notebook->jupyter) (1.8.0)\n",
      "Requirement already satisfied: terminado>=0.8.3 in c:\\users\\jagadeesh.k\\anaconda3\\lib\\site-packages (from notebook->jupyter) (0.13.1)\n",
      "Requirement already satisfied: prometheus-client in c:\\users\\jagadeesh.k\\anaconda3\\lib\\site-packages (from notebook->jupyter) (0.14.1)\n",
      "Requirement already satisfied: qtpy in c:\\users\\jagadeesh.k\\anaconda3\\lib\\site-packages (from qtconsole->jupyter) (2.2.0)\n",
      "Requirement already satisfied: decorator in c:\\users\\jagadeesh.k\\anaconda3\\lib\\site-packages (from ipython>=7.23.1->ipykernel->jupyter) (5.1.1)\n",
      "Requirement already satisfied: setuptools>=18.5 in c:\\users\\jagadeesh.k\\anaconda3\\lib\\site-packages (from ipython>=7.23.1->ipykernel->jupyter) (63.4.1)\n",
      "Requirement already satisfied: jedi>=0.16 in c:\\users\\jagadeesh.k\\anaconda3\\lib\\site-packages (from ipython>=7.23.1->ipykernel->jupyter) (0.18.1)\n",
      "Requirement already satisfied: backcall in c:\\users\\jagadeesh.k\\anaconda3\\lib\\site-packages (from ipython>=7.23.1->ipykernel->jupyter) (0.2.0)\n",
      "Requirement already satisfied: pickleshare in c:\\users\\jagadeesh.k\\anaconda3\\lib\\site-packages (from ipython>=7.23.1->ipykernel->jupyter) (0.7.5)\n",
      "Requirement already satisfied: colorama in c:\\users\\jagadeesh.k\\anaconda3\\lib\\site-packages (from ipython>=7.23.1->ipykernel->jupyter) (0.4.5)\n",
      "Requirement already satisfied: attrs>=17.4.0 in c:\\users\\jagadeesh.k\\anaconda3\\lib\\site-packages (from jsonschema>=2.6->nbformat>=4.4->nbconvert) (21.4.0)\n",
      "Requirement already satisfied: pyrsistent!=0.17.0,!=0.17.1,!=0.17.2,>=0.14.0 in c:\\users\\jagadeesh.k\\anaconda3\\lib\\site-packages (from jsonschema>=2.6->nbformat>=4.4->nbconvert) (0.18.0)\n",
      "Requirement already satisfied: python-dateutil>=2.8.2 in c:\\users\\jagadeesh.k\\anaconda3\\lib\\site-packages (from jupyter-client>=6.1.5->nbclient<0.6.0,>=0.5.0->nbconvert) (2.8.2)\n",
      "Requirement already satisfied: wcwidth in c:\\users\\jagadeesh.k\\anaconda3\\lib\\site-packages (from prompt-toolkit!=3.0.0,!=3.0.1,<3.1.0,>=2.0.0->jupyter-console->jupyter) (0.2.5)\n",
      "Requirement already satisfied: pywinpty>=1.1.0 in c:\\users\\jagadeesh.k\\anaconda3\\lib\\site-packages (from terminado>=0.8.3->notebook->jupyter) (2.0.2)\n",
      "Requirement already satisfied: argon2-cffi-bindings in c:\\users\\jagadeesh.k\\anaconda3\\lib\\site-packages (from argon2-cffi->notebook->jupyter) (21.2.0)\n",
      "Requirement already satisfied: pyparsing!=3.0.5,>=2.0.2 in c:\\users\\jagadeesh.k\\anaconda3\\lib\\site-packages (from packaging->bleach->nbconvert) (3.0.9)\n",
      "Requirement already satisfied: parso<0.9.0,>=0.8.0 in c:\\users\\jagadeesh.k\\anaconda3\\lib\\site-packages (from jedi>=0.16->ipython>=7.23.1->ipykernel->jupyter) (0.8.3)\n",
      "Requirement already satisfied: cffi>=1.0.1 in c:\\users\\jagadeesh.k\\anaconda3\\lib\\site-packages (from argon2-cffi-bindings->argon2-cffi->notebook->jupyter) (1.15.1)\n",
      "Requirement already satisfied: pycparser in c:\\users\\jagadeesh.k\\anaconda3\\lib\\site-packages (from cffi>=1.0.1->argon2-cffi-bindings->argon2-cffi->notebook->jupyter) (2.21)\n",
      "Note: you may need to restart the kernel to use updated packages.\n"
     ]
    }
   ],
   "source": [
    "pip install jupyter nbconvert"
   ]
  },
  {
   "cell_type": "code",
   "execution_count": 2,
   "id": "ee4d886c",
   "metadata": {},
   "outputs": [
    {
     "name": "stdout",
     "output_type": "stream",
     "text": [
      "Requirement already satisfied: nbconvert[webpdf] in c:\\users\\jagadeesh.k\\anaconda3\\lib\\site-packages (6.4.4)\n",
      "Requirement already satisfied: beautifulsoup4 in c:\\users\\jagadeesh.k\\anaconda3\\lib\\site-packages (from nbconvert[webpdf]) (4.11.1)\n",
      "Requirement already satisfied: entrypoints>=0.2.2 in c:\\users\\jagadeesh.k\\anaconda3\\lib\\site-packages (from nbconvert[webpdf]) (0.4)\n",
      "Requirement already satisfied: jupyter-core in c:\\users\\jagadeesh.k\\anaconda3\\lib\\site-packages (from nbconvert[webpdf]) (4.11.1)\n",
      "Requirement already satisfied: bleach in c:\\users\\jagadeesh.k\\anaconda3\\lib\\site-packages (from nbconvert[webpdf]) (4.1.0)\n",
      "Requirement already satisfied: nbclient<0.6.0,>=0.5.0 in c:\\users\\jagadeesh.k\\anaconda3\\lib\\site-packages (from nbconvert[webpdf]) (0.5.13)\n",
      "Requirement already satisfied: pandocfilters>=1.4.1 in c:\\users\\jagadeesh.k\\anaconda3\\lib\\site-packages (from nbconvert[webpdf]) (1.5.0)\n",
      "Requirement already satisfied: mistune<2,>=0.8.1 in c:\\users\\jagadeesh.k\\anaconda3\\lib\\site-packages (from nbconvert[webpdf]) (0.8.4)\n",
      "Requirement already satisfied: pygments>=2.4.1 in c:\\users\\jagadeesh.k\\anaconda3\\lib\\site-packages (from nbconvert[webpdf]) (2.11.2)\n",
      "Requirement already satisfied: traitlets>=5.0 in c:\\users\\jagadeesh.k\\anaconda3\\lib\\site-packages (from nbconvert[webpdf]) (5.1.1)\n",
      "Requirement already satisfied: testpath in c:\\users\\jagadeesh.k\\anaconda3\\lib\\site-packages (from nbconvert[webpdf]) (0.6.0)\n",
      "Requirement already satisfied: defusedxml in c:\\users\\jagadeesh.k\\anaconda3\\lib\\site-packages (from nbconvert[webpdf]) (0.7.1)\n",
      "Requirement already satisfied: jinja2>=2.4 in c:\\users\\jagadeesh.k\\anaconda3\\lib\\site-packages (from nbconvert[webpdf]) (2.11.3)\n",
      "Requirement already satisfied: jupyterlab-pygments in c:\\users\\jagadeesh.k\\anaconda3\\lib\\site-packages (from nbconvert[webpdf]) (0.1.2)\n",
      "Requirement already satisfied: nbformat>=4.4 in c:\\users\\jagadeesh.k\\anaconda3\\lib\\site-packages (from nbconvert[webpdf]) (5.5.0)\n",
      "Requirement already satisfied: pyppeteer<1.1,>=1 in c:\\users\\jagadeesh.k\\anaconda3\\lib\\site-packages (from nbconvert[webpdf]) (1.0.2)\n",
      "Requirement already satisfied: MarkupSafe>=0.23 in c:\\users\\jagadeesh.k\\anaconda3\\lib\\site-packages (from jinja2>=2.4->nbconvert[webpdf]) (2.0.1)\n",
      "Requirement already satisfied: nest-asyncio in c:\\users\\jagadeesh.k\\anaconda3\\lib\\site-packages (from nbclient<0.6.0,>=0.5.0->nbconvert[webpdf]) (1.5.5)\n",
      "Requirement already satisfied: jupyter-client>=6.1.5 in c:\\users\\jagadeesh.k\\anaconda3\\lib\\site-packages (from nbclient<0.6.0,>=0.5.0->nbconvert[webpdf]) (7.3.4)\n",
      "Requirement already satisfied: fastjsonschema in c:\\users\\jagadeesh.k\\anaconda3\\lib\\site-packages (from nbformat>=4.4->nbconvert[webpdf]) (2.16.2)\n",
      "Requirement already satisfied: jsonschema>=2.6 in c:\\users\\jagadeesh.k\\anaconda3\\lib\\site-packages (from nbformat>=4.4->nbconvert[webpdf]) (4.16.0)\n",
      "Requirement already satisfied: appdirs<2.0.0,>=1.4.3 in c:\\users\\jagadeesh.k\\anaconda3\\lib\\site-packages (from pyppeteer<1.1,>=1->nbconvert[webpdf]) (1.4.4)\n",
      "Requirement already satisfied: importlib-metadata>=1.4 in c:\\users\\jagadeesh.k\\anaconda3\\lib\\site-packages (from pyppeteer<1.1,>=1->nbconvert[webpdf]) (4.11.3)\n",
      "Requirement already satisfied: certifi>=2021 in c:\\users\\jagadeesh.k\\anaconda3\\lib\\site-packages (from pyppeteer<1.1,>=1->nbconvert[webpdf]) (2022.9.14)\n",
      "Requirement already satisfied: urllib3<2.0.0,>=1.25.8 in c:\\users\\jagadeesh.k\\anaconda3\\lib\\site-packages (from pyppeteer<1.1,>=1->nbconvert[webpdf]) (1.26.11)\n",
      "Requirement already satisfied: pyee<9.0.0,>=8.1.0 in c:\\users\\jagadeesh.k\\anaconda3\\lib\\site-packages (from pyppeteer<1.1,>=1->nbconvert[webpdf]) (8.2.2)\n",
      "Requirement already satisfied: websockets<11.0,>=10.0 in c:\\users\\jagadeesh.k\\anaconda3\\lib\\site-packages (from pyppeteer<1.1,>=1->nbconvert[webpdf]) (10.4)\n",
      "Requirement already satisfied: tqdm<5.0.0,>=4.42.1 in c:\\users\\jagadeesh.k\\anaconda3\\lib\\site-packages (from pyppeteer<1.1,>=1->nbconvert[webpdf]) (4.64.1)\n",
      "Requirement already satisfied: soupsieve>1.2 in c:\\users\\jagadeesh.k\\anaconda3\\lib\\site-packages (from beautifulsoup4->nbconvert[webpdf]) (2.3.1)\n",
      "Requirement already satisfied: six>=1.9.0 in c:\\users\\jagadeesh.k\\anaconda3\\lib\\site-packages (from bleach->nbconvert[webpdf]) (1.16.0)\n",
      "Requirement already satisfied: webencodings in c:\\users\\jagadeesh.k\\anaconda3\\lib\\site-packages (from bleach->nbconvert[webpdf]) (0.5.1)\n",
      "Requirement already satisfied: packaging in c:\\users\\jagadeesh.k\\anaconda3\\lib\\site-packages (from bleach->nbconvert[webpdf]) (21.3)\n",
      "Requirement already satisfied: pywin32>=1.0 in c:\\users\\jagadeesh.k\\anaconda3\\lib\\site-packages (from jupyter-core->nbconvert[webpdf]) (302)\n",
      "Requirement already satisfied: zipp>=0.5 in c:\\users\\jagadeesh.k\\anaconda3\\lib\\site-packages (from importlib-metadata>=1.4->pyppeteer<1.1,>=1->nbconvert[webpdf]) (3.8.0)\n",
      "Requirement already satisfied: pyrsistent!=0.17.0,!=0.17.1,!=0.17.2,>=0.14.0 in c:\\users\\jagadeesh.k\\anaconda3\\lib\\site-packages (from jsonschema>=2.6->nbformat>=4.4->nbconvert[webpdf]) (0.18.0)\n",
      "Requirement already satisfied: attrs>=17.4.0 in c:\\users\\jagadeesh.k\\anaconda3\\lib\\site-packages (from jsonschema>=2.6->nbformat>=4.4->nbconvert[webpdf]) (21.4.0)\n",
      "Requirement already satisfied: tornado>=6.0 in c:\\users\\jagadeesh.k\\anaconda3\\lib\\site-packages (from jupyter-client>=6.1.5->nbclient<0.6.0,>=0.5.0->nbconvert[webpdf]) (6.1)\n",
      "Requirement already satisfied: python-dateutil>=2.8.2 in c:\\users\\jagadeesh.k\\anaconda3\\lib\\site-packages (from jupyter-client>=6.1.5->nbclient<0.6.0,>=0.5.0->nbconvert[webpdf]) (2.8.2)\n",
      "Requirement already satisfied: pyzmq>=23.0 in c:\\users\\jagadeesh.k\\anaconda3\\lib\\site-packages (from jupyter-client>=6.1.5->nbclient<0.6.0,>=0.5.0->nbconvert[webpdf]) (23.2.0)\n",
      "Requirement already satisfied: colorama in c:\\users\\jagadeesh.k\\anaconda3\\lib\\site-packages (from tqdm<5.0.0,>=4.42.1->pyppeteer<1.1,>=1->nbconvert[webpdf]) (0.4.5)\n",
      "Requirement already satisfied: pyparsing!=3.0.5,>=2.0.2 in c:\\users\\jagadeesh.k\\anaconda3\\lib\\site-packages (from packaging->bleach->nbconvert[webpdf]) (3.0.9)\n",
      "Note: you may need to restart the kernel to use updated packages.\n"
     ]
    }
   ],
   "source": [
    "pip install nbconvert[webpdf]"
   ]
  },
  {
   "cell_type": "code",
   "execution_count": null,
   "id": "4dca8083",
   "metadata": {},
   "outputs": [],
   "source": []
  }
 ],
 "metadata": {
  "kernelspec": {
   "display_name": "Python 3 (ipykernel)",
   "language": "python",
   "name": "python3"
  },
  "language_info": {
   "codemirror_mode": {
    "name": "ipython",
    "version": 3
   },
   "file_extension": ".py",
   "mimetype": "text/x-python",
   "name": "python",
   "nbconvert_exporter": "python",
   "pygments_lexer": "ipython3",
   "version": "3.9.13"
  }
 },
 "nbformat": 4,
 "nbformat_minor": 5
}
